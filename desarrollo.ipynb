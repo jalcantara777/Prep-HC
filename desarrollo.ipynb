{
 "cells": [
  {
   "cell_type": "code",
   "execution_count": null,
   "metadata": {},
   "outputs": [],
   "source": []
  },
  {
   "cell_type": "code",
   "execution_count": 16,
   "metadata": {},
   "outputs": [
    {
     "data": {
      "text/plain": [
       "1"
      ]
     },
     "execution_count": 16,
     "metadata": {},
     "output_type": "execute_result"
    }
   ],
   "source": [
    "class Animal:\n",
    "    def __init__(self,especie,color,edad):\n",
    "        self.especie=especie\n",
    "        self.color=color\n",
    "        self.edad=edad\n",
    "\n",
    "    def CumpliAnios(self):\n",
    "        self.edad+=1\n",
    "        return self.edad\n",
    "\n",
    "def ClaseAnimal(especie, color):\n",
    "    return Animal(especie,color,0)\n",
    "\n",
    "a = ClaseAnimal('perro','blanco')\n",
    "a.CumpliAnios()"
   ]
  },
  {
   "cell_type": "code",
   "execution_count": 12,
   "metadata": {},
   "outputs": [],
   "source": [
    "def factorial(numero):\n",
    "    if type(numero)!=int:\n",
    "        return None\n",
    "    if numero == 0:\n",
    "        return 1\n",
    "    elif numero<0:\n",
    "        return None\n",
    "    prod=1\n",
    "    for i in range(numero,1,-1):\n",
    "        prod*=i\n",
    "    return prod\n",
    "\n",
    "factorial(5.6)"
   ]
  }
 ],
 "metadata": {
  "kernelspec": {
   "display_name": "Python 3",
   "language": "python",
   "name": "python3"
  },
  "language_info": {
   "codemirror_mode": {
    "name": "ipython",
    "version": 3
   },
   "file_extension": ".py",
   "mimetype": "text/x-python",
   "name": "python",
   "nbconvert_exporter": "python",
   "pygments_lexer": "ipython3",
   "version": "3.11.4"
  },
  "orig_nbformat": 4
 },
 "nbformat": 4,
 "nbformat_minor": 2
}
